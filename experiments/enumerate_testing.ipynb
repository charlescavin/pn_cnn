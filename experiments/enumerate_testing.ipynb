{
 "cells": [
  {
   "cell_type": "code",
   "execution_count": 3,
   "metadata": {},
   "outputs": [
    {
     "name": "stdout",
     "output_type": "stream",
     "text": [
      "row = 0, position = pos_ap, path = path_ap\n",
      "row = 1, position = pos_pa, path = path_pa\n"
     ]
    }
   ],
   "source": [
    "pos_ap = 'pos_ap'\n",
    "pos_pa = 'pos_pa'\n",
    "path_ap = 'path_ap'\n",
    "path_pa = 'path_pa'\n",
    "pos_data = [[pos_ap, path_ap], [pos_pa, path_pa]]\n",
    "for r, pos in enumerate(pos_data):\n",
    "    print(f\"row = {r}, position = {pos[0]}, path = {pos[1]}\")\n",
    "    \n"
   ]
  },
  {
   "cell_type": "code",
   "execution_count": 44,
   "metadata": {},
   "outputs": [
    {
     "name": "stdout",
     "output_type": "stream",
     "text": [
      "['ap_writer' 'pa_writer' 'lat_writer' 'lao_writer' 'll_writer' 'no_writer']\n"
     ]
    }
   ],
   "source": [
    "import numpy as np\n",
    "\n",
    "ap_data = \"/home/cc/dev/CV/PhysioNet/csv_files/ap_data.csv\"\n",
    "pa_data = \"/home/cc/dev/CV/PhysioNet/csv_files/pa_data.csv\"\n",
    "lat_data = \"/home/cc/dev/CV/PhysioNet/csv_files/lat_data.csv\"\n",
    "lao_data = \"/home/cc/dev/CV/PhysioNet/csv_files/lao_data.csv\"\n",
    "ll_data = \"/home/cc/dev/CV/PhysioNet/csv_files/ll_data.csv\"\n",
    "no_data = \"/home/cc/dev/CV/PhysioNet/csv_files/no_data.csv\"\n",
    "\n",
    "positions = np.array([ \\\n",
    "    ['antero-posterior', ap_data , 'ap_writer', 0], \\\n",
    "    ['postero-anterior', pa_data, 'pa_writer', 0], \\\n",
    "    ['lateral', lat_data, 'lat_writer', 0], \\\n",
    "    ['left anterior oblique', lao_data, 'lao_writer', 0], \\\n",
    "    ['left lateral', ll_data, 'll_writer', 0], \\\n",
    "    ['none', no_data, 'no_writer', 0] \\\n",
    "    ])\n",
    "\n",
    "# These are indices for the 'positions' array above to make the code clearer\n",
    "dcm_pos_idx = 0\n",
    "data_path_idx = 1\n",
    "csv_writer_idx = 2\n",
    "total_rows_by_pos_idx = 3\n",
    "\n",
    "print(positions[:,2])\n",
    "\n",
    "\n"
   ]
  },
  {
   "cell_type": "code",
   "execution_count": 43,
   "metadata": {},
   "outputs": [
    {
     "name": "stdout",
     "output_type": "stream",
     "text": [
      "5\n"
     ]
    }
   ],
   "source": [
    "print(np.where(positions == 'none')[0][0])"
   ]
  },
  {
   "cell_type": "code",
   "execution_count": 22,
   "metadata": {},
   "outputs": [
    {
     "name": "stdout",
     "output_type": "stream",
     "text": [
      "Positions\n",
      "[['antero-posterior' '/home/cc/dev/CV/PhysioNet/csv_files/ap_data.csv'\n",
      "  '<_csv.writer object at 0x7f2cd7ee8b30>' '0']\n",
      " ['postero-anterior' '/home/cc/dev/CV/PhysioNet/csv_files/pa_data.csv'\n",
      "  '<_csv.writer object at 0x7f2cec241710>' '0']\n",
      " ['lateral' '/home/cc/dev/CV/PhysioNet/csv_files/lat_data.csv'\n",
      "  '<_csv.writer object at 0x7f2cf43c2470>' '0']\n",
      " ['left anterior oblique'\n",
      "  '/home/cc/dev/CV/PhysioNet/csv_files/lao_data.csv'\n",
      "  '<_csv.writer object at 0x7f2cec241710>' '0']\n",
      " ['left lateral' '/home/cc/dev/CV/PhysioNet/csv_files/ll_data.csv'\n",
      "  '<_csv.writer object at 0x7f2cf43c2470>' '0']\n",
      " ['none' '/home/cc/dev/CV/PhysioNet/csv_files/no_data.csv'\n",
      "  '<_csv.writer object at 0x7f2cec241710>' '0']]\n"
     ]
    }
   ],
   "source": [
    "import csv\n",
    "for pos in positions:\n",
    "        data_path = pos[data_path_idx]\n",
    "\n",
    "        with open(data_path, 'w', newline='') as csvfile:\n",
    "            header = ['Num', 'Path', 'Rows', 'Cols','LIPV']\n",
    "            csv_writer = csv.writer(csvfile, delimiter=',')\n",
    "            pos[csv_writer_idx] = csv_writer\n",
    "            \n",
    "            try:\n",
    "                csv_writer.writerow(header)\n",
    "            except:\n",
    "                logging.exception(f\"Could not write header for {data_path}\")\n",
    "                print(f\"Could not write header for {data_path}\")\n",
    "                \n",
    "print(\"Positions\")\n",
    "print(positions)\n"
   ]
  },
  {
   "cell_type": "code",
   "execution_count": 38,
   "metadata": {
    "scrolled": true
   },
   "outputs": [
    {
     "ename": "NameError",
     "evalue": "name 'File' is not defined",
     "output_type": "error",
     "traceback": [
      "\u001b[0;31m---------------------------------------------------------------------------\u001b[0m",
      "\u001b[0;31mNameError\u001b[0m                                 Traceback (most recent call last)",
      "\u001b[0;32m<ipython-input-38-7097e0d41317>\u001b[0m in \u001b[0;36m<module>\u001b[0;34m\u001b[0m\n\u001b[0;32m----> 1\u001b[0;31m \u001b[0map_csvfile\u001b[0m \u001b[0;34m=\u001b[0m \u001b[0mFile\u001b[0m\u001b[0;34m(\u001b[0m\u001b[0;34m)\u001b[0m\u001b[0;34m\u001b[0m\u001b[0;34m\u001b[0m\u001b[0m\n\u001b[0m",
      "\u001b[0;31mNameError\u001b[0m: name 'File' is not defined"
     ]
    }
   ],
   "source": [
    "ap_csvfile = File()"
   ]
  },
  {
   "cell_type": "code",
   "execution_count": 47,
   "metadata": {},
   "outputs": [
    {
     "name": "stdout",
     "output_type": "stream",
     "text": [
      "7\n",
      "3\n",
      "a = 0\n",
      "0\n",
      "1\n"
     ]
    },
    {
     "ename": "NameError",
     "evalue": "name 'c' is not defined",
     "output_type": "error",
     "traceback": [
      "\u001b[0;31m---------------------------------------------------------------------------\u001b[0m",
      "\u001b[0;31mNameError\u001b[0m                                 Traceback (most recent call last)",
      "\u001b[0;32m<ipython-input-47-b10a3363a1fb>\u001b[0m in \u001b[0;36m<module>\u001b[0;34m\u001b[0m\n\u001b[1;32m     21\u001b[0m \u001b[0;34m\u001b[0m\u001b[0m\n\u001b[1;32m     22\u001b[0m \u001b[0;31m# c and d don't exist anymore -- these statements will give us name errors!\u001b[0m\u001b[0;34m\u001b[0m\u001b[0;34m\u001b[0m\u001b[0;34m\u001b[0m\u001b[0m\n\u001b[0;32m---> 23\u001b[0;31m \u001b[0mprint\u001b[0m\u001b[0;34m(\u001b[0m\u001b[0mc\u001b[0m\u001b[0;34m)\u001b[0m\u001b[0;34m\u001b[0m\u001b[0;34m\u001b[0m\u001b[0m\n\u001b[0m\u001b[1;32m     24\u001b[0m \u001b[0mprint\u001b[0m\u001b[0;34m(\u001b[0m\u001b[0md\u001b[0m\u001b[0;34m)\u001b[0m\u001b[0;34m\u001b[0m\u001b[0;34m\u001b[0m\u001b[0m\n",
      "\u001b[0;31mNameError\u001b[0m: name 'c' is not defined"
     ]
    }
   ],
   "source": [
    "# This is a global variable\n",
    "a = 0\n",
    "\n",
    "if a == 0:\n",
    "    # This is still a global variable\n",
    "    b = 1\n",
    "\n",
    "def my_function(c):\n",
    "    # this is a local variable\n",
    "    d = 3\n",
    "    print(c)\n",
    "    print(d)\n",
    "    print(f\"a = {a}\")\n",
    "\n",
    "# Now we call the function, passing the value 7 as the first and only parameter\n",
    "my_function(7)\n",
    "\n",
    "# a and b still exist\n",
    "print(a)\n",
    "print(b)\n",
    "\n",
    "# c and d don't exist anymore -- these statements will give us name errors!\n",
    "print(c)\n",
    "print(d)"
   ]
  },
  {
   "cell_type": "code",
   "execution_count": 51,
   "metadata": {},
   "outputs": [
    {
     "ename": "TypeError",
     "evalue": "'str' object is not an iterator",
     "output_type": "error",
     "traceback": [
      "\u001b[0;31m---------------------------------------------------------------------------\u001b[0m",
      "\u001b[0;31mTypeError\u001b[0m                                 Traceback (most recent call last)",
      "\u001b[0;32m<ipython-input-51-47f91a36d471>\u001b[0m in \u001b[0;36m<module>\u001b[0;34m\u001b[0m\n\u001b[1;32m      1\u001b[0m \u001b[0mfruits\u001b[0m \u001b[0;34m=\u001b[0m \u001b[0;34m[\u001b[0m\u001b[0;34m\"apple\"\u001b[0m\u001b[0;34m,\u001b[0m \u001b[0;34m\"banana\"\u001b[0m\u001b[0;34m,\u001b[0m \u001b[0;34m\"cherry\"\u001b[0m\u001b[0;34m]\u001b[0m\u001b[0;34m\u001b[0m\u001b[0;34m\u001b[0m\u001b[0m\n\u001b[1;32m      2\u001b[0m \u001b[0;32mfor\u001b[0m \u001b[0mx\u001b[0m \u001b[0;32min\u001b[0m \u001b[0mfruits\u001b[0m\u001b[0;34m:\u001b[0m\u001b[0;34m\u001b[0m\u001b[0;34m\u001b[0m\u001b[0m\n\u001b[0;32m----> 3\u001b[0;31m     \u001b[0mnext\u001b[0m\u001b[0;34m(\u001b[0m\u001b[0mx\u001b[0m\u001b[0;34m)\u001b[0m\u001b[0;34m\u001b[0m\u001b[0;34m\u001b[0m\u001b[0m\n\u001b[0m\u001b[1;32m      4\u001b[0m     \u001b[0mprint\u001b[0m\u001b[0;34m(\u001b[0m\u001b[0mx\u001b[0m\u001b[0;34m)\u001b[0m\u001b[0;34m\u001b[0m\u001b[0;34m\u001b[0m\u001b[0m\n",
      "\u001b[0;31mTypeError\u001b[0m: 'str' object is not an iterator"
     ]
    }
   ],
   "source": [
    "fruits = [\"apple\", \"banana\", \"cherry\"]\n",
    "for x in fruits:\n",
    "    next(x)\n",
    "    print(x)"
   ]
  },
  {
   "cell_type": "code",
   "execution_count": 59,
   "metadata": {},
   "outputs": [
    {
     "name": "stdout",
     "output_type": "stream",
     "text": [
      "9:25:39.900000\n"
     ]
    }
   ],
   "source": [
    "from datetime import datetime, timedelta\n",
    "total_time_taken = timedelta(0,90,0,0,0,0)\n",
    "rcd_ctr = 1000\n",
    "total_rcds = 377110\n",
    "avg_time_per_rcd = (total_time_taken / rcd_ctr) * total_rcds\n",
    "print(avg_time_per_rcd)"
   ]
  },
  {
   "cell_type": "code",
   "execution_count": null,
   "metadata": {},
   "outputs": [],
   "source": [
    "now = time()"
   ]
  }
 ],
 "metadata": {
  "kernelspec": {
   "display_name": "Python 3.7.6 64-bit ('tf2': conda)",
   "language": "python",
   "name": "python37664bittf2conda96b2c52c2c894192a59ad06a3d724239"
  },
  "language_info": {
   "codemirror_mode": {
    "name": "ipython",
    "version": 3
   },
   "file_extension": ".py",
   "mimetype": "text/x-python",
   "name": "python",
   "nbconvert_exporter": "python",
   "pygments_lexer": "ipython3",
   "version": "3.7.6"
  }
 },
 "nbformat": 4,
 "nbformat_minor": 4
}
