{
 "cells": [
  {
   "cell_type": "code",
   "execution_count": 3,
   "metadata": {},
   "outputs": [
    {
     "name": "stdout",
     "output_type": "stream",
     "text": [
      "row = 0, position = pos_ap, path = path_ap\n",
      "row = 1, position = pos_pa, path = path_pa\n"
     ]
    }
   ],
   "source": [
    "pos_ap = 'pos_ap'\n",
    "pos_pa = 'pos_pa'\n",
    "path_ap = 'path_ap'\n",
    "path_pa = 'path_pa'\n",
    "pos_data = [[pos_ap, path_ap], [pos_pa, path_pa]]\n",
    "for r, pos in enumerate(pos_data):\n",
    "    print(f\"row = {r}, position = {pos[0]}, path = {pos[1]}\")\n",
    "    \n"
   ]
  },
  {
   "cell_type": "code",
   "execution_count": 7,
   "metadata": {},
   "outputs": [],
   "source": [
    "ap_data = \"/Users/cc/Documents/_Current/Dev/CV/PhysioNet/Data/ap_data.csv\"\n",
    "pa_data = \"/Users/cc/Documents/_Current/Dev/CV/PhysioNet/Data/pa_data.csv\"\n",
    "lat_data = \"/Users/cc/Documents/_Current/Dev/CV/PhysioNet/Data/lat_data.csv\"\n",
    "lao_data = \"/Users/cc/Documents/_Current/Dev/CV/PhysioNet/Data/lao_data.csv\"\n",
    "ll_data = \"/Users/cc/Documents/_Current/Dev/CV/PhysioNet/Data/ll_data.csv\"\n",
    "no_data = \"/Users/cc/Documents/_Current/Dev/CV/PhysioNet/Data/no_data.csv\"\n",
    "\n",
    "positions = [ \\\n",
    "    ['antero-posterior', ap_data , 'ap_writer', 0], \\\n",
    "    ['postero-anterior', pa_data, 'pa_writer', 0], \\\n",
    "    ['lateral', lat_data, 'lat_writer', 0], \\\n",
    "    ['left anterior oblique', lao_data, 'lao_writer', 0], \\\n",
    "    ['left lateral', ll_data, 'll_writer', 0], \\\n",
    "    ['none', no_data, 'no_writer', 0] \\\n",
    "    ]\n",
    "\n",
    "# These are indices for the 'positions' array above to make the code clearer\n",
    "dcm_pos_idx = 0\n",
    "data_path_idx = 1\n",
    "csv_writer_idx = 2\n",
    "total_rows_by_pos_idx = 3"
   ]
  },
  {
   "cell_type": "code",
   "execution_count": null,
   "metadata": {},
   "outputs": [],
   "source": [
    "import csv\n",
    "for row, pos in enumerate(positions):\n",
    "        data_path = positions[row, data_path_idx]\n",
    "\n",
    "        with open(data_path, 'w', newline='') as csvfile:\n",
    "            header = ['Num', 'Path', 'Rows', 'Cols','LIPV']\n",
    "            positions[row_idx][csv_writer_idx] = csv.writer(csvfile, delimiter=',')\n",
    "            print(\"Positions\")\n",
    "            print(positions)\n",
    "            \n",
    "            try:\n",
    "                csv_writer.writerow(header)\n",
    "            except:\n",
    "                logging.exception(f\"Could not write header for {data_path}\")\n",
    "                print(f\"Could not write header for {data_path}\")\n"
   ]
  }
 ],
 "metadata": {
  "kernelspec": {
   "display_name": "Python 3.7.6 64-bit ('tf2': conda)",
   "language": "python",
   "name": "python37664bittf2conda96b2c52c2c894192a59ad06a3d724239"
  },
  "language_info": {
   "codemirror_mode": {
    "name": "ipython",
    "version": 3
   },
   "file_extension": ".py",
   "mimetype": "text/x-python",
   "name": "python",
   "nbconvert_exporter": "python",
   "pygments_lexer": "ipython3",
   "version": "3.7.6"
  }
 },
 "nbformat": 4,
 "nbformat_minor": 4
}
