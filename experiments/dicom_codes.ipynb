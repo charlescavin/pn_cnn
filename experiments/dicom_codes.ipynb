{
 "cells": [
  {
   "cell_type": "code",
   "execution_count": 8,
   "metadata": {},
   "outputs": [],
   "source": [
    "import os\n",
    "import pydicom\n",
    "from pydicom.data import get_testdata_files"
   ]
  },
  {
   "cell_type": "code",
   "execution_count": 9,
   "metadata": {},
   "outputs": [
    {
     "name": "stdout",
     "output_type": "stream",
     "text": [
      "filename: /data8/pn/dcm/files/p10/p10999395/s50315575/6948c444-96391ca8-99b4ffc2-b91f9d4e-92529c73.dcm\n"
     ]
    }
   ],
   "source": [
    "filename = \"/data8/pn/dcm/files/p10/p10999395/s50315575/6948c444-96391ca8-99b4ffc2-b91f9d4e-92529c73.dcm\"\n",
    "print(f\"filename: {filename}\")"
   ]
  },
  {
   "cell_type": "code",
   "execution_count": 10,
   "metadata": {},
   "outputs": [],
   "source": [
    "ds = pydicom.dcmread(filename)"
   ]
  },
  {
   "cell_type": "code",
   "execution_count": 12,
   "metadata": {},
   "outputs": [
    {
     "name": "stdout",
     "output_type": "stream",
     "text": [
      "['PositionerType', 'ViewPosition']\n"
     ]
    }
   ],
   "source": [
    "print(ds.dir(\"Position\"))"
   ]
  },
  {
   "cell_type": "code",
   "execution_count": 13,
   "metadata": {},
   "outputs": [
    {
     "name": "stdout",
     "output_type": "stream",
     "text": [
      "AP\n"
     ]
    }
   ],
   "source": [
    "print(ds.ViewPosition)"
   ]
  },
  {
   "cell_type": "code",
   "execution_count": 14,
   "metadata": {},
   "outputs": [
    {
     "name": "stdout",
     "output_type": "stream",
     "text": [
      "['PatientOrientation', 'PatientOrientationCodeSequence']\n"
     ]
    }
   ],
   "source": [
    "print(ds.dir(\"Orientation\"))"
   ]
  },
  {
   "cell_type": "code",
   "execution_count": 15,
   "metadata": {},
   "outputs": [
    {
     "name": "stdout",
     "output_type": "stream",
     "text": [
      "[(0008, 0100) Code Value                          SH: 'F-10440'\n",
      "(0008, 0102) Coding Scheme Designator            SH: 'SNM3'\n",
      "(0008, 0104) Code Meaning                        LO: 'Erect'\n",
      "(0008, 0105) Mapping Resource                    CS: 'DCMR'\n",
      "(0008, 0106) Context Group Version               DT: '20020904'\n",
      "(0008, 010f) Context Identifier                  CS: '19']\n"
     ]
    }
   ],
   "source": [
    "print(ds.PatientOrientationCodeSequence)"
   ]
  },
  {
   "cell_type": "code",
   "execution_count": 17,
   "metadata": {},
   "outputs": [
    {
     "ename": "AttributeError",
     "evalue": "'Sequence' object has no attribute 'CodeMeaning'",
     "output_type": "error",
     "traceback": [
      "\u001b[0;31m---------------------------------------------------------------------------\u001b[0m",
      "\u001b[0;31mAttributeError\u001b[0m                            Traceback (most recent call last)",
      "\u001b[0;32m<ipython-input-17-14af9567aef6>\u001b[0m in \u001b[0;36m<module>\u001b[0;34m\u001b[0m\n\u001b[0;32m----> 1\u001b[0;31m \u001b[0mds\u001b[0m\u001b[0;34m.\u001b[0m\u001b[0mPatientOrientationCodeSequence\u001b[0m\u001b[0;34m.\u001b[0m\u001b[0mCodeMeaning\u001b[0m\u001b[0;34m\u001b[0m\u001b[0;34m\u001b[0m\u001b[0m\n\u001b[0m",
      "\u001b[0;31mAttributeError\u001b[0m: 'Sequence' object has no attribute 'CodeMeaning'"
     ]
    }
   ],
   "source": [
    "ds.PatientOrientationCodeSequence.CodeMeaning"
   ]
  },
  {
   "cell_type": "code",
   "execution_count": null,
   "metadata": {},
   "outputs": [],
   "source": []
  }
 ],
 "metadata": {
  "kernelspec": {
   "display_name": "Python 3",
   "language": "python",
   "name": "python3"
  },
  "language_info": {
   "codemirror_mode": {
    "name": "ipython",
    "version": 3
   },
   "file_extension": ".py",
   "mimetype": "text/x-python",
   "name": "python",
   "nbconvert_exporter": "python",
   "pygments_lexer": "ipython3",
   "version": "3.7.7"
  }
 },
 "nbformat": 4,
 "nbformat_minor": 4
}
