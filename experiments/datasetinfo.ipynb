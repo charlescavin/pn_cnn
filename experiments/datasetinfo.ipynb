{
 "cells": [
  {
   "cell_type": "code",
   "execution_count": 9,
   "metadata": {},
   "outputs": [],
   "source": [
    "import pandas as pd"
   ]
  },
  {
   "cell_type": "code",
   "execution_count": 10,
   "metadata": {},
   "outputs": [],
   "source": [
    "dicom_data_path = \"/home/cc/dev/CV/PhysioNet/pn_data.csv\""
   ]
  },
  {
   "cell_type": "code",
   "execution_count": 11,
   "metadata": {},
   "outputs": [],
   "source": [
    "def load_dicom_data(path):\n",
    "    try:\n",
    "        return pd.read_csv(path)\n",
    "    except:\n",
    "        print(\"Problem reading csv file in \" + path)"
   ]
  },
  {
   "cell_type": "code",
   "execution_count": 12,
   "metadata": {},
   "outputs": [],
   "source": [
    "def get_data_head(data):\n",
    "    return data.head()"
   ]
  },
  {
   "cell_type": "code",
   "execution_count": 13,
   "metadata": {},
   "outputs": [],
   "source": [
    "def get_data_desc(data):\n",
    "    return data.describe(include='all')"
   ]
  },
  {
   "cell_type": "code",
   "execution_count": 14,
   "metadata": {},
   "outputs": [],
   "source": [
    "dicom_data = load_dicom_data(dicom_data_path)"
   ]
  },
  {
   "cell_type": "code",
   "execution_count": 19,
   "metadata": {},
   "outputs": [
    {
     "data": {
      "text/html": [
       "<div>\n",
       "<style scoped>\n",
       "    .dataframe tbody tr th:only-of-type {\n",
       "        vertical-align: middle;\n",
       "    }\n",
       "\n",
       "    .dataframe tbody tr th {\n",
       "        vertical-align: top;\n",
       "    }\n",
       "\n",
       "    .dataframe thead th {\n",
       "        text-align: right;\n",
       "    }\n",
       "</style>\n",
       "<table border=\"1\" class=\"dataframe\">\n",
       "  <thead>\n",
       "    <tr style=\"text-align: right;\">\n",
       "      <th></th>\n",
       "      <th>Num</th>\n",
       "      <th>Path</th>\n",
       "      <th>Pos</th>\n",
       "      <th>Rows</th>\n",
       "      <th>Cols</th>\n",
       "    </tr>\n",
       "  </thead>\n",
       "  <tbody>\n",
       "    <tr>\n",
       "      <th>count</th>\n",
       "      <td>374680.000000</td>\n",
       "      <td>374680</td>\n",
       "      <td>374680</td>\n",
       "      <td>374680.000000</td>\n",
       "      <td>374680.000000</td>\n",
       "    </tr>\n",
       "    <tr>\n",
       "      <th>unique</th>\n",
       "      <td>NaN</td>\n",
       "      <td>374680</td>\n",
       "      <td>6</td>\n",
       "      <td>NaN</td>\n",
       "      <td>NaN</td>\n",
       "    </tr>\n",
       "    <tr>\n",
       "      <th>top</th>\n",
       "      <td>NaN</td>\n",
       "      <td>/data8/physionet.org/files/mimic-cxr/2.0.0/fil...</td>\n",
       "      <td>antero-posterior</td>\n",
       "      <td>NaN</td>\n",
       "      <td>NaN</td>\n",
       "    </tr>\n",
       "    <tr>\n",
       "      <th>freq</th>\n",
       "      <td>NaN</td>\n",
       "      <td>1</td>\n",
       "      <td>145756</td>\n",
       "      <td>NaN</td>\n",
       "      <td>NaN</td>\n",
       "    </tr>\n",
       "    <tr>\n",
       "      <th>mean</th>\n",
       "      <td>187341.500000</td>\n",
       "      <td>NaN</td>\n",
       "      <td>NaN</td>\n",
       "      <td>2695.392183</td>\n",
       "      <td>2485.861015</td>\n",
       "    </tr>\n",
       "    <tr>\n",
       "      <th>std</th>\n",
       "      <td>108160.943767</td>\n",
       "      <td>NaN</td>\n",
       "      <td>NaN</td>\n",
       "      <td>429.054808</td>\n",
       "      <td>408.530274</td>\n",
       "    </tr>\n",
       "    <tr>\n",
       "      <th>min</th>\n",
       "      <td>2.000000</td>\n",
       "      <td>NaN</td>\n",
       "      <td>NaN</td>\n",
       "      <td>697.000000</td>\n",
       "      <td>776.000000</td>\n",
       "    </tr>\n",
       "    <tr>\n",
       "      <th>25%</th>\n",
       "      <td>93671.750000</td>\n",
       "      <td>NaN</td>\n",
       "      <td>NaN</td>\n",
       "      <td>2539.000000</td>\n",
       "      <td>2484.000000</td>\n",
       "    </tr>\n",
       "    <tr>\n",
       "      <th>50%</th>\n",
       "      <td>187341.500000</td>\n",
       "      <td>NaN</td>\n",
       "      <td>NaN</td>\n",
       "      <td>3050.000000</td>\n",
       "      <td>2544.000000</td>\n",
       "    </tr>\n",
       "    <tr>\n",
       "      <th>75%</th>\n",
       "      <td>281011.250000</td>\n",
       "      <td>NaN</td>\n",
       "      <td>NaN</td>\n",
       "      <td>3056.000000</td>\n",
       "      <td>2544.000000</td>\n",
       "    </tr>\n",
       "    <tr>\n",
       "      <th>max</th>\n",
       "      <td>374681.000000</td>\n",
       "      <td>NaN</td>\n",
       "      <td>NaN</td>\n",
       "      <td>4280.000000</td>\n",
       "      <td>4280.000000</td>\n",
       "    </tr>\n",
       "  </tbody>\n",
       "</table>\n",
       "</div>"
      ],
      "text/plain": [
       "                  Num                                               Path  \\\n",
       "count   374680.000000                                             374680   \n",
       "unique            NaN                                             374680   \n",
       "top               NaN  /data8/physionet.org/files/mimic-cxr/2.0.0/fil...   \n",
       "freq              NaN                                                  1   \n",
       "mean    187341.500000                                                NaN   \n",
       "std     108160.943767                                                NaN   \n",
       "min          2.000000                                                NaN   \n",
       "25%      93671.750000                                                NaN   \n",
       "50%     187341.500000                                                NaN   \n",
       "75%     281011.250000                                                NaN   \n",
       "max     374681.000000                                                NaN   \n",
       "\n",
       "                     Pos           Rows           Cols  \n",
       "count             374680  374680.000000  374680.000000  \n",
       "unique                 6            NaN            NaN  \n",
       "top     antero-posterior            NaN            NaN  \n",
       "freq              145756            NaN            NaN  \n",
       "mean                 NaN    2695.392183    2485.861015  \n",
       "std                  NaN     429.054808     408.530274  \n",
       "min                  NaN     697.000000     776.000000  \n",
       "25%                  NaN    2539.000000    2484.000000  \n",
       "50%                  NaN    3050.000000    2544.000000  \n",
       "75%                  NaN    3056.000000    2544.000000  \n",
       "max                  NaN    4280.000000    4280.000000  "
      ]
     },
     "execution_count": 19,
     "metadata": {},
     "output_type": "execute_result"
    }
   ],
   "source": [
    "dicom_data.describe(include='all')"
   ]
  },
  {
   "cell_type": "code",
   "execution_count": 20,
   "metadata": {},
   "outputs": [
    {
     "name": "stdout",
     "output_type": "stream",
     "text": [
      "<class 'pandas.core.frame.DataFrame'>\n",
      "RangeIndex: 374680 entries, 0 to 374679\n",
      "Data columns (total 5 columns):\n",
      " #   Column  Non-Null Count   Dtype \n",
      "---  ------  --------------   ----- \n",
      " 0   Num     374680 non-null  int64 \n",
      " 1   Path    374680 non-null  object\n",
      " 2   Pos     374680 non-null  object\n",
      " 3   Rows    374680 non-null  int64 \n",
      " 4   Cols    374680 non-null  int64 \n",
      "dtypes: int64(3), object(2)\n",
      "memory usage: 14.3+ MB\n"
     ]
    }
   ],
   "source": [
    "dicom_data.info()"
   ]
  },
  {
   "cell_type": "code",
   "execution_count": 21,
   "metadata": {},
   "outputs": [
    {
     "data": {
      "text/plain": [
       "antero-posterior         145756\n",
       "postero-anterior          95450\n",
       "lateral                   82310\n",
       "left lateral              34832\n",
       "none                      16311\n",
       "left anterior oblique        21\n",
       "Name: Pos, dtype: int64"
      ]
     },
     "execution_count": 21,
     "metadata": {},
     "output_type": "execute_result"
    }
   ],
   "source": [
    "dicom_data[\"Pos\"].value_counts()"
   ]
  },
  {
   "cell_type": "code",
   "execution_count": 22,
   "metadata": {},
   "outputs": [
    {
     "data": {
      "text/plain": [
       "3056    169645\n",
       "2544     54326\n",
       "2022     30879\n",
       "2021     21802\n",
       "2539     21379\n",
       "         ...  \n",
       "1414         1\n",
       "2182         1\n",
       "1325         1\n",
       "1627         1\n",
       "2173         1\n",
       "Name: Rows, Length: 1523, dtype: int64"
      ]
     },
     "execution_count": 22,
     "metadata": {},
     "output_type": "execute_result"
    }
   ],
   "source": [
    "dicom_data[\"Rows\"].value_counts()"
   ]
  },
  {
   "cell_type": "code",
   "execution_count": 16,
   "metadata": {},
   "outputs": [
    {
     "name": "stdout",
     "output_type": "stream",
     "text": [
      "   Num                                               Path      Pos  Rows  Cols\n",
      "0    2  /data8/physionet.org/files/mimic-cxr/2.0.0/fil...  lateral  3056  2544\n",
      "   Num                                               Path               Pos  \\\n",
      "1    3  /data8/physionet.org/files/mimic-cxr/2.0.0/fil...  postero-anterior   \n",
      "\n",
      "   Rows  Cols  \n",
      "1  3056  2544  \n",
      "   Num                                               Path               Pos  \\\n",
      "2    4  /data8/physionet.org/files/mimic-cxr/2.0.0/fil...  postero-anterior   \n",
      "\n",
      "   Rows  Cols  \n",
      "2  3056  2544  \n",
      "   Num                                               Path      Pos  Rows  Cols\n",
      "3    5  /data8/physionet.org/files/mimic-cxr/2.0.0/fil...  lateral  3056  2544\n"
     ]
    }
   ],
   "source": [
    "for row in range(0, 4):\n",
    "    print(dicom_data_head.loc[[row]])"
   ]
  },
  {
   "cell_type": "code",
   "execution_count": 17,
   "metadata": {},
   "outputs": [],
   "source": [
    "dicom_data_desc = get_data_desc(dicom_data)"
   ]
  },
  {
   "cell_type": "code",
   "execution_count": null,
   "metadata": {},
   "outputs": [],
   "source": [
    "for row in range(0, dicom_data_desc.size()):\n",
    "    print(dicom_data_desc.iloc[row,:])"
   ]
  }
 ],
 "metadata": {
  "kernelspec": {
   "display_name": "Python 3",
   "language": "python",
   "name": "python3"
  },
  "language_info": {
   "codemirror_mode": {
    "name": "ipython",
    "version": 3
   },
   "file_extension": ".py",
   "mimetype": "text/x-python",
   "name": "python",
   "nbconvert_exporter": "python",
   "pygments_lexer": "ipython3",
   "version": "3.7.6"
  }
 },
 "nbformat": 4,
 "nbformat_minor": 4
}
